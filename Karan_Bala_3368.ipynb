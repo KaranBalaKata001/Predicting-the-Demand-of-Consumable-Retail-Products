{
 "cells": [
  {
   "cell_type": "markdown",
   "metadata": {},
   "source": [
    "# Predicting the demand of consumable retail products"
   ]
  },
  {
   "cell_type": "markdown",
   "metadata": {},
   "source": [
    "## Evaluation Metric:\n",
    "The evaluation metric is the Root Mean Squared Error (RMSE)"
   ]
  },
  {
   "cell_type": "markdown",
   "metadata": {},
   "source": [
    "# Import Libraries"
   ]
  },
  {
   "cell_type": "code",
   "execution_count": 4,
   "metadata": {},
   "outputs": [],
   "source": [
    "# Required Libraries\n",
    "import os\n",
    "import pandas as pd\n",
    "import numpy as np\n",
    "import matplotlib.pyplot as plt\n",
    "%matplotlib inline\n",
    "\n",
    "import seaborn as sns\n",
    "\n",
    "import warnings # Ignores any warning\n",
    "warnings.filterwarnings(\"ignore\")"
   ]
  },
  {
   "cell_type": "markdown",
   "metadata": {},
   "source": [
    "# Read Data"
   ]
  },
  {
   "cell_type": "code",
   "execution_count": 5,
   "metadata": {},
   "outputs": [],
   "source": [
    "# Reading Train Data using Pandas\n",
    "Data = pd.read_csv('train.csv')"
   ]
  },
  {
   "cell_type": "code",
   "execution_count": 6,
   "metadata": {},
   "outputs": [],
   "source": [
    "# Reading Test Data using Pandas\n",
    "TestData = pd.read_csv('test.csv')"
   ]
  },
  {
   "cell_type": "markdown",
   "metadata": {},
   "source": [
    "# Data Exploration"
   ]
  },
  {
   "cell_type": "code",
   "execution_count": 7,
   "metadata": {},
   "outputs": [
    {
     "data": {
      "text/html": [
       "<div>\n",
       "<style scoped>\n",
       "    .dataframe tbody tr th:only-of-type {\n",
       "        vertical-align: middle;\n",
       "    }\n",
       "\n",
       "    .dataframe tbody tr th {\n",
       "        vertical-align: top;\n",
       "    }\n",
       "\n",
       "    .dataframe thead th {\n",
       "        text-align: right;\n",
       "    }\n",
       "</style>\n",
       "<table border=\"1\" class=\"dataframe\">\n",
       "  <thead>\n",
       "    <tr style=\"text-align: right;\">\n",
       "      <th></th>\n",
       "      <th>experiment_week</th>\n",
       "      <th>channel_type</th>\n",
       "      <th>num_units_sold_in_week</th>\n",
       "      <th>sales_revenue_in_week</th>\n",
       "      <th>num_units_returned</th>\n",
       "      <th>returned_units_revenue_loss</th>\n",
       "      <th>store_identifier</th>\n",
       "      <th>product_identifier</th>\n",
       "      <th>category_of_route</th>\n",
       "      <th>supplier_identifier</th>\n",
       "    </tr>\n",
       "  </thead>\n",
       "  <tbody>\n",
       "    <tr>\n",
       "      <td>0</td>\n",
       "      <td>Week 1 of 2019</td>\n",
       "      <td>Warehouse Retailers</td>\n",
       "      <td>3</td>\n",
       "      <td>377.1</td>\n",
       "      <td>0</td>\n",
       "      <td>0.0</td>\n",
       "      <td>store_fc6aa</td>\n",
       "      <td>product_cbfad</td>\n",
       "      <td>route_67047</td>\n",
       "      <td>supplier_identifier_055f7</td>\n",
       "    </tr>\n",
       "    <tr>\n",
       "      <td>1</td>\n",
       "      <td>Week 1 of 2019</td>\n",
       "      <td>Warehouse Retailers</td>\n",
       "      <td>4</td>\n",
       "      <td>502.8</td>\n",
       "      <td>0</td>\n",
       "      <td>0.0</td>\n",
       "      <td>store_fc6aa</td>\n",
       "      <td>product_2b363</td>\n",
       "      <td>route_67047</td>\n",
       "      <td>supplier_identifier_055f7</td>\n",
       "    </tr>\n",
       "    <tr>\n",
       "      <td>2</td>\n",
       "      <td>Week 1 of 2019</td>\n",
       "      <td>Warehouse Retailers</td>\n",
       "      <td>4</td>\n",
       "      <td>589.8</td>\n",
       "      <td>0</td>\n",
       "      <td>0.0</td>\n",
       "      <td>store_fc6aa</td>\n",
       "      <td>product_8de14</td>\n",
       "      <td>route_67047</td>\n",
       "      <td>supplier_identifier_055f7</td>\n",
       "    </tr>\n",
       "    <tr>\n",
       "      <td>3</td>\n",
       "      <td>Week 1 of 2019</td>\n",
       "      <td>Warehouse Retailers</td>\n",
       "      <td>4</td>\n",
       "      <td>502.8</td>\n",
       "      <td>0</td>\n",
       "      <td>0.0</td>\n",
       "      <td>store_fc6aa</td>\n",
       "      <td>product_1c00e</td>\n",
       "      <td>route_67047</td>\n",
       "      <td>supplier_identifier_055f7</td>\n",
       "    </tr>\n",
       "    <tr>\n",
       "      <td>4</td>\n",
       "      <td>Week 1 of 2019</td>\n",
       "      <td>Warehouse Retailers</td>\n",
       "      <td>3</td>\n",
       "      <td>343.8</td>\n",
       "      <td>0</td>\n",
       "      <td>0.0</td>\n",
       "      <td>store_fc6aa</td>\n",
       "      <td>product_55001</td>\n",
       "      <td>route_67047</td>\n",
       "      <td>supplier_identifier_055f7</td>\n",
       "    </tr>\n",
       "  </tbody>\n",
       "</table>\n",
       "</div>"
      ],
      "text/plain": [
       "  experiment_week         channel_type  num_units_sold_in_week  \\\n",
       "0  Week 1 of 2019  Warehouse Retailers                       3   \n",
       "1  Week 1 of 2019  Warehouse Retailers                       4   \n",
       "2  Week 1 of 2019  Warehouse Retailers                       4   \n",
       "3  Week 1 of 2019  Warehouse Retailers                       4   \n",
       "4  Week 1 of 2019  Warehouse Retailers                       3   \n",
       "\n",
       "   sales_revenue_in_week  num_units_returned  returned_units_revenue_loss  \\\n",
       "0                  377.1                   0                          0.0   \n",
       "1                  502.8                   0                          0.0   \n",
       "2                  589.8                   0                          0.0   \n",
       "3                  502.8                   0                          0.0   \n",
       "4                  343.8                   0                          0.0   \n",
       "\n",
       "  store_identifier product_identifier category_of_route  \\\n",
       "0      store_fc6aa      product_cbfad       route_67047   \n",
       "1      store_fc6aa      product_2b363       route_67047   \n",
       "2      store_fc6aa      product_8de14       route_67047   \n",
       "3      store_fc6aa      product_1c00e       route_67047   \n",
       "4      store_fc6aa      product_55001       route_67047   \n",
       "\n",
       "         supplier_identifier  \n",
       "0  supplier_identifier_055f7  \n",
       "1  supplier_identifier_055f7  \n",
       "2  supplier_identifier_055f7  \n",
       "3  supplier_identifier_055f7  \n",
       "4  supplier_identifier_055f7  "
      ]
     },
     "execution_count": 7,
     "metadata": {},
     "output_type": "execute_result"
    }
   ],
   "source": [
    "Data.head()"
   ]
  },
  {
   "cell_type": "code",
   "execution_count": 8,
   "metadata": {},
   "outputs": [
    {
     "data": {
      "text/html": [
       "<div>\n",
       "<style scoped>\n",
       "    .dataframe tbody tr th:only-of-type {\n",
       "        vertical-align: middle;\n",
       "    }\n",
       "\n",
       "    .dataframe tbody tr th {\n",
       "        vertical-align: top;\n",
       "    }\n",
       "\n",
       "    .dataframe thead th {\n",
       "        text-align: right;\n",
       "    }\n",
       "</style>\n",
       "<table border=\"1\" class=\"dataframe\">\n",
       "  <thead>\n",
       "    <tr style=\"text-align: right;\">\n",
       "      <th></th>\n",
       "      <th>experiment_week</th>\n",
       "      <th>channel_type</th>\n",
       "      <th>num_units_sold_in_week</th>\n",
       "      <th>sales_revenue_in_week</th>\n",
       "      <th>num_units_returned</th>\n",
       "      <th>returned_units_revenue_loss</th>\n",
       "      <th>store_identifier</th>\n",
       "      <th>product_identifier</th>\n",
       "      <th>category_of_route</th>\n",
       "      <th>supplier_identifier</th>\n",
       "    </tr>\n",
       "  </thead>\n",
       "  <tbody>\n",
       "    <tr>\n",
       "      <td>53364878</td>\n",
       "      <td>Week 5 of 2019</td>\n",
       "      <td>Grocery Stores</td>\n",
       "      <td>2</td>\n",
       "      <td>382.5</td>\n",
       "      <td>0</td>\n",
       "      <td>0.0</td>\n",
       "      <td>store_d7372</td>\n",
       "      <td>product_48541</td>\n",
       "      <td>route_5078b</td>\n",
       "      <td>supplier_identifier_4ae6d</td>\n",
       "    </tr>\n",
       "    <tr>\n",
       "      <td>53364879</td>\n",
       "      <td>Week 5 of 2019</td>\n",
       "      <td>Grocery Stores</td>\n",
       "      <td>2</td>\n",
       "      <td>504.0</td>\n",
       "      <td>0</td>\n",
       "      <td>0.0</td>\n",
       "      <td>store_d7372</td>\n",
       "      <td>product_fa4c5</td>\n",
       "      <td>route_5078b</td>\n",
       "      <td>supplier_identifier_4ae6d</td>\n",
       "    </tr>\n",
       "    <tr>\n",
       "      <td>53364880</td>\n",
       "      <td>Week 5 of 2019</td>\n",
       "      <td>Grocery Stores</td>\n",
       "      <td>2</td>\n",
       "      <td>270.0</td>\n",
       "      <td>0</td>\n",
       "      <td>0.0</td>\n",
       "      <td>store_d7372</td>\n",
       "      <td>product_3fc7c</td>\n",
       "      <td>route_5078b</td>\n",
       "      <td>supplier_identifier_4ae6d</td>\n",
       "    </tr>\n",
       "    <tr>\n",
       "      <td>53364881</td>\n",
       "      <td>Week 5 of 2019</td>\n",
       "      <td>Grocery Stores</td>\n",
       "      <td>2</td>\n",
       "      <td>269.4</td>\n",
       "      <td>0</td>\n",
       "      <td>0.0</td>\n",
       "      <td>store_d7372</td>\n",
       "      <td>product_f7e0e</td>\n",
       "      <td>route_5078b</td>\n",
       "      <td>supplier_identifier_4ae6d</td>\n",
       "    </tr>\n",
       "    <tr>\n",
       "      <td>53364882</td>\n",
       "      <td>Week 5 of 2019</td>\n",
       "      <td>Grocery Stores</td>\n",
       "      <td>40</td>\n",
       "      <td>450.0</td>\n",
       "      <td>0</td>\n",
       "      <td>0.0</td>\n",
       "      <td>store_d7372</td>\n",
       "      <td>product_faf61</td>\n",
       "      <td>route_5078b</td>\n",
       "      <td>supplier_identifier_4ae6d</td>\n",
       "    </tr>\n",
       "  </tbody>\n",
       "</table>\n",
       "</div>"
      ],
      "text/plain": [
       "         experiment_week    channel_type  num_units_sold_in_week  \\\n",
       "53364878  Week 5 of 2019  Grocery Stores                       2   \n",
       "53364879  Week 5 of 2019  Grocery Stores                       2   \n",
       "53364880  Week 5 of 2019  Grocery Stores                       2   \n",
       "53364881  Week 5 of 2019  Grocery Stores                       2   \n",
       "53364882  Week 5 of 2019  Grocery Stores                      40   \n",
       "\n",
       "          sales_revenue_in_week  num_units_returned  \\\n",
       "53364878                  382.5                   0   \n",
       "53364879                  504.0                   0   \n",
       "53364880                  270.0                   0   \n",
       "53364881                  269.4                   0   \n",
       "53364882                  450.0                   0   \n",
       "\n",
       "          returned_units_revenue_loss store_identifier product_identifier  \\\n",
       "53364878                          0.0      store_d7372      product_48541   \n",
       "53364879                          0.0      store_d7372      product_fa4c5   \n",
       "53364880                          0.0      store_d7372      product_3fc7c   \n",
       "53364881                          0.0      store_d7372      product_f7e0e   \n",
       "53364882                          0.0      store_d7372      product_faf61   \n",
       "\n",
       "         category_of_route        supplier_identifier  \n",
       "53364878       route_5078b  supplier_identifier_4ae6d  \n",
       "53364879       route_5078b  supplier_identifier_4ae6d  \n",
       "53364880       route_5078b  supplier_identifier_4ae6d  \n",
       "53364881       route_5078b  supplier_identifier_4ae6d  \n",
       "53364882       route_5078b  supplier_identifier_4ae6d  "
      ]
     },
     "execution_count": 8,
     "metadata": {},
     "output_type": "execute_result"
    }
   ],
   "source": [
    "Data.tail()"
   ]
  },
  {
   "cell_type": "code",
   "execution_count": 9,
   "metadata": {},
   "outputs": [
    {
     "data": {
      "text/plain": [
       "(53364883, 10)"
      ]
     },
     "execution_count": 9,
     "metadata": {},
     "output_type": "execute_result"
    }
   ],
   "source": [
    "# Checking Dimensions of Data\n",
    "Data.shape"
   ]
  },
  {
   "cell_type": "code",
   "execution_count": 20,
   "metadata": {},
   "outputs": [
    {
     "data": {
      "text/plain": [
       "0           True\n",
       "1           True\n",
       "2           True\n",
       "3           True\n",
       "4           True\n",
       "            ... \n",
       "53364878    True\n",
       "53364879    True\n",
       "53364880    True\n",
       "53364881    True\n",
       "53364882    True\n",
       "Name: channel_type, Length: 53364883, dtype: bool"
      ]
     },
     "execution_count": 20,
     "metadata": {},
     "output_type": "execute_result"
    }
   ],
   "source": [
    "Data['channel_type']=='Grocery Stores'"
   ]
  },
  {
   "cell_type": "code",
   "execution_count": 17,
   "metadata": {},
   "outputs": [
    {
     "name": "stdout",
     "output_type": "stream",
     "text": [
      "0            8\n",
      "1            9\n",
      "2            9\n",
      "3            9\n",
      "4            8\n",
      "            ..\n",
      "53364878     7\n",
      "53364879     7\n",
      "53364880     7\n",
      "53364881     7\n",
      "53364882    45\n",
      "Name: num_units_sold_in_week, Length: 53364883, dtype: int64\n"
     ]
    }
   ],
   "source": [
    "print(Data['num_units_sold_in_week']+5)"
   ]
  },
  {
   "cell_type": "code",
   "execution_count": 7,
   "metadata": {},
   "outputs": [
    {
     "data": {
      "text/plain": [
       "experiment_week                 object\n",
       "channel_type                    object\n",
       "num_units_sold_in_week           int64\n",
       "sales_revenue_in_week          float64\n",
       "num_units_returned               int64\n",
       "returned_units_revenue_loss    float64\n",
       "store_identifier                object\n",
       "product_identifier              object\n",
       "category_of_route               object\n",
       "supplier_identifier             object\n",
       "dtype: object"
      ]
     },
     "execution_count": 7,
     "metadata": {},
     "output_type": "execute_result"
    }
   ],
   "source": [
    "# Checking Data Type of each column\n",
    "Data.dtypes"
   ]
  },
  {
   "cell_type": "code",
   "execution_count": 8,
   "metadata": {},
   "outputs": [
    {
     "data": {
      "text/plain": [
       "Index(['experiment_week', 'channel_type', 'num_units_sold_in_week',\n",
       "       'sales_revenue_in_week', 'num_units_returned',\n",
       "       'returned_units_revenue_loss', 'store_identifier', 'product_identifier',\n",
       "       'category_of_route', 'supplier_identifier'],\n",
       "      dtype='object')"
      ]
     },
     "execution_count": 8,
     "metadata": {},
     "output_type": "execute_result"
    }
   ],
   "source": [
    "# To know What columns are present in Data\n",
    "Data.columns"
   ]
  },
  {
   "cell_type": "code",
   "execution_count": 9,
   "metadata": {},
   "outputs": [
    {
     "name": "stdout",
     "output_type": "stream",
     "text": [
      "<class 'pandas.core.frame.DataFrame'>\n",
      "RangeIndex: 53364883 entries, 0 to 53364882\n",
      "Data columns (total 10 columns):\n",
      "experiment_week                object\n",
      "channel_type                   object\n",
      "num_units_sold_in_week         int64\n",
      "sales_revenue_in_week          float64\n",
      "num_units_returned             int64\n",
      "returned_units_revenue_loss    float64\n",
      "store_identifier               object\n",
      "product_identifier             object\n",
      "category_of_route              object\n",
      "supplier_identifier            object\n",
      "dtypes: float64(2), int64(2), object(6)\n",
      "memory usage: 4.0+ GB\n"
     ]
    }
   ],
   "source": [
    "Data.info()"
   ]
  },
  {
   "cell_type": "markdown",
   "metadata": {},
   "source": [
    "# Data Distribution"
   ]
  },
  {
   "cell_type": "code",
   "execution_count": 10,
   "metadata": {},
   "outputs": [
    {
     "name": "stdout",
     "output_type": "stream",
     "text": [
      "5\n",
      "Week 1 of 2019    11165207\n",
      "Week 2 of 2019    11009593\n",
      "Week 3 of 2019    10615397\n",
      "Week 5 of 2019    10382849\n",
      "Week 4 of 2019    10191837\n",
      "Name: experiment_week, dtype: int64\n"
     ]
    }
   ],
   "source": [
    "# To know the Unique levels , count in 'experiment_week'\n",
    "print(Data['experiment_week'].nunique())\n",
    "print(Data['experiment_week'].value_counts())"
   ]
  },
  {
   "cell_type": "code",
   "execution_count": 11,
   "metadata": {},
   "outputs": [
    {
     "name": "stdout",
     "output_type": "stream",
     "text": [
      "9\n",
      "Grocery Stores          48547255\n",
      "Supermarkets             2697418\n",
      "Department Stores         682091\n",
      "Specialty Retailers       603205\n",
      "Warehouse Retailers       488224\n",
      "Wholesale Retailers       193696\n",
      "Convenience Retailer      104175\n",
      "Discount Retailer          48549\n",
      "Internet Retailers           270\n",
      "Name: channel_type, dtype: int64\n"
     ]
    }
   ],
   "source": [
    "# To know the Unique levels , Count in 'channel_type'\n",
    "print(Data['channel_type'].nunique())\n",
    "print(Data['channel_type'].value_counts())"
   ]
  },
  {
   "cell_type": "markdown",
   "metadata": {},
   "source": [
    "# Target Attribute Generation"
   ]
  },
  {
   "cell_type": "code",
   "execution_count": 12,
   "metadata": {},
   "outputs": [],
   "source": [
    "Data['demand_projection'] = Data['num_units_sold_in_week']-Data['num_units_returned']"
   ]
  },
  {
   "cell_type": "markdown",
   "metadata": {},
   "source": [
    "# Seperate Train and Val Data"
   ]
  },
  {
   "cell_type": "code",
   "execution_count": 13,
   "metadata": {},
   "outputs": [],
   "source": [
    "# Taking week 5 Data as Validation Data\n",
    "VAL = Data.loc[Data['experiment_week'] == 'Week 5 of 2019']\n",
    "VAL.reset_index(drop=True,inplace=True)"
   ]
  },
  {
   "cell_type": "code",
   "execution_count": 14,
   "metadata": {},
   "outputs": [],
   "source": [
    "# Taking other 4 Weeks Data as Train Data\n",
    "TRAIN = Data.loc[Data['experiment_week'] != 'Week 5 of 2019']\n",
    "TRAIN.reset_index(drop=True,inplace=True)"
   ]
  },
  {
   "cell_type": "code",
   "execution_count": 15,
   "metadata": {},
   "outputs": [
    {
     "name": "stdout",
     "output_type": "stream",
     "text": [
      "(10382849, 11)\n",
      "(42982034, 11)\n"
     ]
    }
   ],
   "source": [
    "# Checking dimensions of Train and Validation Data\n",
    "print(VAL.shape)\n",
    "print(TRAIN.shape)"
   ]
  },
  {
   "cell_type": "code",
   "execution_count": 16,
   "metadata": {},
   "outputs": [],
   "source": [
    "# Sales revenue = Units sold * Sales price\n",
    "VAL['SalesPrice'] = VAL['sales_revenue_in_week']/VAL['num_units_sold_in_week']"
   ]
  },
  {
   "cell_type": "code",
   "execution_count": 17,
   "metadata": {},
   "outputs": [],
   "source": [
    "Sales_Price = VAL['SalesPrice']"
   ]
  },
  {
   "cell_type": "code",
   "execution_count": 18,
   "metadata": {},
   "outputs": [],
   "source": [
    "Sales_Price = pd.DataFrame(Sales_Price)"
   ]
  },
  {
   "cell_type": "code",
   "execution_count": 19,
   "metadata": {},
   "outputs": [],
   "source": [
    "VAL.drop([\"SalesPrice\"],axis=1,inplace=True)"
   ]
  },
  {
   "cell_type": "markdown",
   "metadata": {},
   "source": [
    "# Duplicates and Missing Values"
   ]
  },
  {
   "cell_type": "code",
   "execution_count": 20,
   "metadata": {},
   "outputs": [],
   "source": [
    "VAL = VAL.drop_duplicates()\n",
    "TRAIN = TRAIN.drop_duplicates()"
   ]
  },
  {
   "cell_type": "code",
   "execution_count": 21,
   "metadata": {},
   "outputs": [
    {
     "name": "stdout",
     "output_type": "stream",
     "text": [
      "experiment_week                0\n",
      "channel_type                   0\n",
      "num_units_sold_in_week         0\n",
      "sales_revenue_in_week          0\n",
      "num_units_returned             0\n",
      "returned_units_revenue_loss    0\n",
      "store_identifier               0\n",
      "product_identifier             0\n",
      "category_of_route              0\n",
      "supplier_identifier            0\n",
      "demand_projection              0\n",
      "dtype: int64\n",
      "experiment_week                0\n",
      "channel_type                   0\n",
      "num_units_sold_in_week         0\n",
      "sales_revenue_in_week          0\n",
      "num_units_returned             0\n",
      "returned_units_revenue_loss    0\n",
      "store_identifier               0\n",
      "product_identifier             0\n",
      "category_of_route              0\n",
      "supplier_identifier            0\n",
      "demand_projection              0\n",
      "dtype: int64\n"
     ]
    }
   ],
   "source": [
    "print(VAL.isnull().sum())\n",
    "print(TRAIN.isnull().sum())"
   ]
  },
  {
   "cell_type": "code",
   "execution_count": 22,
   "metadata": {},
   "outputs": [],
   "source": [
    "# Reset index after dropping duplicates and NA\n",
    "VAL.reset_index(drop = True, inplace = True)\n",
    "TRAIN.reset_index(drop = True, inplace = True)"
   ]
  },
  {
   "cell_type": "markdown",
   "metadata": {},
   "source": [
    "# Data Type Conversion"
   ]
  },
  {
   "cell_type": "code",
   "execution_count": 23,
   "metadata": {},
   "outputs": [],
   "source": [
    "categorical =['experiment_week','channel_type','store_identifier', \n",
    "              'product_identifier','category_of_route', 'supplier_identifier']"
   ]
  },
  {
   "cell_type": "code",
   "execution_count": 24,
   "metadata": {},
   "outputs": [],
   "source": [
    "for cat in categorical:\n",
    "    VAL[cat] = VAL[cat].astype('category')\n",
    "    TRAIN[cat] = TRAIN[cat].astype('category')"
   ]
  },
  {
   "cell_type": "code",
   "execution_count": 25,
   "metadata": {},
   "outputs": [
    {
     "name": "stdout",
     "output_type": "stream",
     "text": [
      "experiment_week                category\n",
      "channel_type                   category\n",
      "num_units_sold_in_week            int64\n",
      "sales_revenue_in_week           float64\n",
      "num_units_returned                int64\n",
      "returned_units_revenue_loss     float64\n",
      "store_identifier               category\n",
      "product_identifier             category\n",
      "category_of_route              category\n",
      "supplier_identifier            category\n",
      "demand_projection                 int64\n",
      "dtype: object\n",
      "experiment_week                category\n",
      "channel_type                   category\n",
      "num_units_sold_in_week            int64\n",
      "sales_revenue_in_week           float64\n",
      "num_units_returned                int64\n",
      "returned_units_revenue_loss     float64\n",
      "store_identifier               category\n",
      "product_identifier             category\n",
      "category_of_route              category\n",
      "supplier_identifier            category\n",
      "demand_projection                 int64\n",
      "dtype: object\n"
     ]
    }
   ],
   "source": [
    "print(VAL.dtypes)\n",
    "print(TRAIN.dtypes)"
   ]
  },
  {
   "cell_type": "markdown",
   "metadata": {},
   "source": [
    "# Co- relation between Numerical Data and Target"
   ]
  },
  {
   "cell_type": "code",
   "execution_count": 26,
   "metadata": {},
   "outputs": [],
   "source": [
    "corr = TRAIN.corr()"
   ]
  },
  {
   "cell_type": "code",
   "execution_count": 27,
   "metadata": {},
   "outputs": [
    {
     "name": "stdout",
     "output_type": "stream",
     "text": [
      "demand_projection              1.000000\n",
      "num_units_sold_in_week         0.979266\n",
      "sales_revenue_in_week          0.709149\n",
      "returned_units_revenue_loss   -0.128008\n",
      "num_units_returned            -0.151550\n",
      "Name: demand_projection, dtype: float64\n"
     ]
    }
   ],
   "source": [
    "print(corr['demand_projection'].sort_values(ascending=False))"
   ]
  },
  {
   "cell_type": "code",
   "execution_count": 28,
   "metadata": {},
   "outputs": [
    {
     "data": {
      "text/plain": [
       "<matplotlib.axes._subplots.AxesSubplot at 0x26c09097c48>"
      ]
     },
     "execution_count": 28,
     "metadata": {},
     "output_type": "execute_result"
    },
    {
     "data": {
      "image/png": "[encoded data removed]",
      "text/plain": [
       "<Figure size 432x288 with 2 Axes>"
      ]
     },
     "metadata": {
      "needs_background": "light"
     },
     "output_type": "display_data"
    }
   ],
   "source": [
    "sns.heatmap(corr)"
   ]
  },
  {
   "cell_type": "markdown",
   "metadata": {},
   "source": [
    "# Visualizations"
   ]
  },
  {
   "cell_type": "code",
   "execution_count": 29,
   "metadata": {},
   "outputs": [
    {
     "data": {
      "text/plain": [
       "(array([0, 1, 2, 3]), <a list of 4 Text xticklabel objects>)"
      ]
     },
     "execution_count": 29,
     "metadata": {},
     "output_type": "execute_result"
    },
    {
     "data": {
      "image/png": "[encoded data removed]",
      "text/plain": [
       "<Figure size 432x288 with 1 Axes>"
      ]
     },
     "metadata": {
      "needs_background": "light"
     },
     "output_type": "display_data"
    }
   ],
   "source": [
    "sns.countplot(TRAIN.experiment_week)\n",
    "plt.xticks(rotation = 90)"
   ]
  },
  {
   "cell_type": "code",
   "execution_count": 30,
   "metadata": {},
   "outputs": [
    {
     "data": {
      "text/plain": [
       "<matplotlib.axes._subplots.AxesSubplot at 0x26c095d2648>"
      ]
     },
     "execution_count": 30,
     "metadata": {},
     "output_type": "execute_result"
    },
    {
     "data": {
      "image/png": "[encoded data removed]",
      "text/plain": [
       "<Figure size 432x288 with 1 Axes>"
      ]
     },
     "metadata": {
      "needs_background": "light"
     },
     "output_type": "display_data"
    }
   ],
   "source": [
    "sns.boxplot(TRAIN[\"sales_revenue_in_week\"])"
   ]
  },
  {
   "cell_type": "code",
   "execution_count": 31,
   "metadata": {},
   "outputs": [
    {
     "data": {
      "text/plain": [
       "<matplotlib.axes._subplots.AxesSubplot at 0x26c096abc08>"
      ]
     },
     "execution_count": 31,
     "metadata": {},
     "output_type": "execute_result"
    },
    {
     "data": {
      "image/png": "[encoded data removed]",
      "text/plain": [
       "<Figure size 432x288 with 1 Axes>"
      ]
     },
     "metadata": {
      "needs_background": "light"
     },
     "output_type": "display_data"
    }
   ],
   "source": [
    "pd.DataFrame(TRAIN.groupby('experiment_week')['demand_projection'].sum()).plot(kind='barh')"
   ]
  },
  {
   "cell_type": "code",
   "execution_count": 32,
   "metadata": {},
   "outputs": [
    {
     "data": {
      "text/plain": [
       "<matplotlib.axes._subplots.AxesSubplot at 0x26c0975fb88>"
      ]
     },
     "execution_count": 32,
     "metadata": {},
     "output_type": "execute_result"
    },
    {
     "data": {
      "image/png": "[encoded data removed]",
      "text/plain": [
       "<Figure size 432x288 with 1 Axes>"
      ]
     },
     "metadata": {
      "needs_background": "light"
     },
     "output_type": "display_data"
    }
   ],
   "source": [
    "pd.DataFrame(TRAIN.groupby('channel_type')['num_units_sold_in_week'].sum()).plot(kind='barh')"
   ]
  },
  {
   "cell_type": "code",
   "execution_count": 33,
   "metadata": {},
   "outputs": [
    {
     "data": {
      "text/plain": [
       "<matplotlib.axes._subplots.AxesSubplot at 0x26c0995fe88>"
      ]
     },
     "execution_count": 33,
     "metadata": {},
     "output_type": "execute_result"
    },
    {
     "data": {
      "image/png": "[encoded data removed]",
      "text/plain": [
       "<Figure size 432x288 with 1 Axes>"
      ]
     },
     "metadata": {
      "needs_background": "light"
     },
     "output_type": "display_data"
    }
   ],
   "source": [
    "pd.DataFrame(TRAIN.groupby('experiment_week')['num_units_sold_in_week'].sum()).plot(kind='line')"
   ]
  },
  {
   "cell_type": "markdown",
   "metadata": {},
   "source": [
    "# Binning Categorical Columns"
   ]
  },
  {
   "cell_type": "markdown",
   "metadata": {},
   "source": [
    "# For Train Data"
   ]
  },
  {
   "cell_type": "code",
   "execution_count": 34,
   "metadata": {},
   "outputs": [
    {
     "name": "stdout",
     "output_type": "stream",
     "text": [
      "-13164.0\n",
      "25.0\n",
      "58.0\n",
      "100.0\n",
      "154.0\n",
      "225.0\n",
      "322.0\n",
      "463.0\n",
      "689.0\n",
      "1149.0\n",
      "10110232.0\n"
     ]
    }
   ],
   "source": [
    "T1 = TRAIN.groupby(\"store_identifier\")[\"demand_projection\"].sum()\n",
    "T1=pd.DataFrame(T1)\n",
    "for i in range(0,11):\n",
    "    print(T1['demand_projection'].quantile(i/10))"
   ]
  },
  {
   "cell_type": "code",
   "execution_count": 35,
   "metadata": {},
   "outputs": [
    {
     "name": "stdout",
     "output_type": "stream",
     "text": [
      "demand_projection    0\n",
      "st_id                1\n",
      "dtype: int64\n"
     ]
    }
   ],
   "source": [
    "bins = [-13164.0,25.0,58.0,100.0,154.0,225.0,322.0,463.0,689.0,1149.0,10110232.0]\n",
    "names =[\"st1\",\"st2\",\"st3\",\"st4\",\"st5\",\"st6\",\"st7\",\"st8\",\"st9\",\"st10\"]\n",
    "T1[\"st_id\"]=pd.cut(T1[\"demand_projection\"],bins,labels = names )\n",
    "\n",
    "print(T1.isna().sum())\n",
    "T1.drop(\"demand_projection\",axis=1,inplace=True)\n",
    "TRAIN = pd.merge(TRAIN,T1,left_on=\"store_identifier\",right_on=\"store_identifier\",how=\"left\")"
   ]
  },
  {
   "cell_type": "code",
   "execution_count": 36,
   "metadata": {},
   "outputs": [
    {
     "name": "stdout",
     "output_type": "stream",
     "text": [
      "-18855.0\n",
      "8.300000000000011\n",
      "178.60000000000002\n",
      "851.0999999999998\n",
      "2534.400000000001\n",
      "5786.0\n",
      "13581.399999999998\n",
      "32844.39999999999\n",
      "100801.60000000017\n",
      "309098.30000000016\n",
      "13856980.0\n"
     ]
    }
   ],
   "source": [
    "T2 = TRAIN.groupby(\"product_identifier\")[\"demand_projection\"].sum()\n",
    "T2 = pd.DataFrame(T2)\n",
    "for i in range(0,11):\n",
    "    print(T2['demand_projection'].quantile(i/10))"
   ]
  },
  {
   "cell_type": "code",
   "execution_count": 37,
   "metadata": {},
   "outputs": [
    {
     "name": "stdout",
     "output_type": "stream",
     "text": [
      "demand_projection    0\n",
      "prd_id               1\n",
      "dtype: int64\n"
     ]
    }
   ],
   "source": [
    "bins = [-18855.0,8.300000000000011,178.60000000000002,851.0999999999998,2534.400000000001,5786.0,13581.399999999998,32844.39999999999,100801.60000000017,309098.30000000016,13856980.0]\n",
    "names =[\"pid1\",\"pid2\",\"pid3\",\"pid4\",\"pid5\",\"pid6\",\"pid7\",\"pid8\",\"pid9\",\"pid10\"]\n",
    "T2[\"prd_id\"]=pd.cut(T2[\"demand_projection\"],bins,labels = names )\n",
    "\n",
    "print(T2.isna().sum())\n",
    "T2.drop(\"demand_projection\",axis=1,inplace=True)\n",
    "TRAIN = pd.merge(TRAIN,T2,left_on=\"product_identifier\",right_on=\"product_identifier\",how=\"left\")"
   ]
  },
  {
   "cell_type": "code",
   "execution_count": 38,
   "metadata": {},
   "outputs": [
    {
     "name": "stdout",
     "output_type": "stream",
     "text": [
      "-152.0\n",
      "80.0\n",
      "244.80000000000018\n",
      "755.1999999999989\n",
      "3117.4000000000024\n",
      "13088.0\n",
      "27490.99999999998\n",
      "59626.99999999999\n",
      "125722.40000000007\n",
      "280331.00000000006\n",
      "1516144.0\n"
     ]
    }
   ],
   "source": [
    "T3 = TRAIN.groupby(\"category_of_route\")[\"demand_projection\"].sum()\n",
    "T3 = pd.DataFrame(T3)\n",
    "for i in range(0,11):\n",
    "    print(T3['demand_projection'].quantile(i/10))"
   ]
  },
  {
   "cell_type": "code",
   "execution_count": 39,
   "metadata": {},
   "outputs": [
    {
     "name": "stdout",
     "output_type": "stream",
     "text": [
      "demand_projection    0\n",
      "cor_id               1\n",
      "dtype: int64\n"
     ]
    }
   ],
   "source": [
    "bins = [-152.0,80.0,244.80000000000018,755.1999999999989,3117.4000000000024,13088.0,27490.99999999998,59626.99999999999,125722.40000000007,280331.00000000006,1516144.0]\n",
    "names =[\"cor1\",\"cor2\",\"cor3\",\"cor4\",\"cor5\",\"cor6\",\"cor7\",\"cor8\",\"cor9\",\"cor10\"]\n",
    "T3[\"cor_id\"]=pd.cut(T3[\"demand_projection\"],bins,labels = names )\n",
    "\n",
    "print(T3.isna().sum())\n",
    "T3.drop(\"demand_projection\",axis=1,inplace=True)\n",
    "TRAIN = pd.merge(TRAIN,T3,left_on=\"category_of_route\",right_on=\"category_of_route\",how=\"left\")"
   ]
  },
  {
   "cell_type": "code",
   "execution_count": 40,
   "metadata": {},
   "outputs": [
    {
     "name": "stdout",
     "output_type": "stream",
     "text": [
      "16553.0\n",
      "74848.0\n",
      "130293.40000000001\n",
      "195412.49999999997\n",
      "257656.8\n",
      "356049.0\n",
      "504168.39999999985\n",
      "717251.3\n",
      "948580.8\n",
      "1307410.5000000005\n",
      "3052557.0\n"
     ]
    }
   ],
   "source": [
    "T4 = TRAIN.groupby(\"supplier_identifier\")[\"demand_projection\"].sum()\n",
    "T4 = pd.DataFrame(T4)\n",
    "for i in range(0,11):\n",
    "    print(T4['demand_projection'].quantile(i/10))"
   ]
  },
  {
   "cell_type": "code",
   "execution_count": 41,
   "metadata": {},
   "outputs": [
    {
     "name": "stdout",
     "output_type": "stream",
     "text": [
      "demand_projection    0\n",
      "sup_id               1\n",
      "dtype: int64\n"
     ]
    }
   ],
   "source": [
    "bins = [16553.0,74848.0,130293.40000000001,195412.49999999997,257656.8,356049.0,504168.39999999985,717251.3,948580.8,1307410.5000000005,3052557.0]\n",
    "names =[\"sid1\",\"sid2\",\"sid3\",\"sid4\",\"sid5\",\"sid6\",\"sid7\",\"sid8\",\"sid9\",\"sid10\"]\n",
    "T4[\"sup_id\"]=pd.cut(T4[\"demand_projection\"],bins,labels = names )\n",
    "\n",
    "print(T4.isna().sum())\n",
    "T4.drop(\"demand_projection\",axis=1,inplace=True)\n",
    "TRAIN = pd.merge(TRAIN,T4,left_on=\"supplier_identifier\",right_on=\"supplier_identifier\",how=\"left\")"
   ]
  },
  {
   "cell_type": "code",
   "execution_count": 42,
   "metadata": {
    "scrolled": true
   },
   "outputs": [
    {
     "data": {
      "text/plain": [
       "Index(['experiment_week', 'channel_type', 'num_units_sold_in_week',\n",
       "       'sales_revenue_in_week', 'num_units_returned',\n",
       "       'returned_units_revenue_loss', 'store_identifier', 'product_identifier',\n",
       "       'category_of_route', 'supplier_identifier', 'demand_projection',\n",
       "       'st_id', 'prd_id', 'cor_id', 'sup_id'],\n",
       "      dtype='object')"
      ]
     },
     "execution_count": 42,
     "metadata": {},
     "output_type": "execute_result"
    }
   ],
   "source": [
    "TRAIN.columns"
   ]
  },
  {
   "cell_type": "code",
   "execution_count": 43,
   "metadata": {},
   "outputs": [],
   "source": [
    "TRAIN.drop([\"num_units_sold_in_week\",\"sales_revenue_in_week\",\"num_units_returned\",\n",
    "            \"returned_units_revenue_loss\"],axis=1,inplace=True)"
   ]
  },
  {
   "cell_type": "markdown",
   "metadata": {},
   "source": [
    "# For Validation Daa"
   ]
  },
  {
   "cell_type": "code",
   "execution_count": 44,
   "metadata": {},
   "outputs": [],
   "source": [
    "VAL = pd.merge(VAL,T1,left_on=\"store_identifier\",right_on=\"store_identifier\",how=\"left\")\n",
    "VAL = pd.merge(VAL,T2,left_on=\"product_identifier\",right_on=\"product_identifier\",how=\"left\")\n",
    "VAL = pd.merge(VAL,T3,left_on=\"category_of_route\",right_on=\"category_of_route\",how=\"left\")\n",
    "VAL = pd.merge(VAL,T4,left_on=\"supplier_identifier\",right_on=\"supplier_identifier\",how=\"left\")"
   ]
  },
  {
   "cell_type": "code",
   "execution_count": 45,
   "metadata": {},
   "outputs": [],
   "source": [
    "VAL.drop([\"num_units_sold_in_week\",\"sales_revenue_in_week\",\"num_units_returned\",\n",
    "          \"returned_units_revenue_loss\"],axis=1,inplace=True)"
   ]
  },
  {
   "cell_type": "markdown",
   "metadata": {},
   "source": [
    "# Checking for Null Values after Binning"
   ]
  },
  {
   "cell_type": "code",
   "execution_count": 46,
   "metadata": {},
   "outputs": [
    {
     "data": {
      "text/plain": [
       "experiment_week           0\n",
       "channel_type              0\n",
       "store_identifier          0\n",
       "product_identifier        0\n",
       "category_of_route         0\n",
       "supplier_identifier       0\n",
       "demand_projection         0\n",
       "st_id                    60\n",
       "prd_id                   30\n",
       "cor_id                    9\n",
       "sup_id                 2106\n",
       "dtype: int64"
      ]
     },
     "execution_count": 46,
     "metadata": {},
     "output_type": "execute_result"
    }
   ],
   "source": [
    "TRAIN.isnull().sum()"
   ]
  },
  {
   "cell_type": "code",
   "execution_count": 47,
   "metadata": {},
   "outputs": [
    {
     "data": {
      "text/plain": [
       "experiment_week            0\n",
       "channel_type               0\n",
       "store_identifier           0\n",
       "product_identifier         0\n",
       "category_of_route          0\n",
       "supplier_identifier        0\n",
       "demand_projection          0\n",
       "st_id                  24036\n",
       "prd_id                 89508\n",
       "cor_id                   162\n",
       "sup_id                   639\n",
       "dtype: int64"
      ]
     },
     "execution_count": 47,
     "metadata": {},
     "output_type": "execute_result"
    }
   ],
   "source": [
    "VAL.isnull().sum()"
   ]
  },
  {
   "cell_type": "code",
   "execution_count": 48,
   "metadata": {},
   "outputs": [],
   "source": [
    "# !pip install sklearn_pandas"
   ]
  },
  {
   "cell_type": "code",
   "execution_count": 49,
   "metadata": {},
   "outputs": [],
   "source": [
    "from sklearn_pandas import CategoricalImputer\n",
    "imputer = CategoricalImputer()\n",
    "TRAIN['st_id']=imputer.fit_transform(TRAIN['st_id'])\n",
    "TRAIN['prd_id']=imputer.fit_transform(TRAIN['prd_id'])\n",
    "TRAIN['cor_id']=imputer.fit_transform(TRAIN['cor_id'])\n",
    "TRAIN['sup_id']=imputer.fit_transform(TRAIN['sup_id'])"
   ]
  },
  {
   "cell_type": "code",
   "execution_count": 50,
   "metadata": {},
   "outputs": [],
   "source": [
    "from sklearn_pandas import CategoricalImputer\n",
    "imputer = CategoricalImputer()\n",
    "VAL['st_id']=imputer.fit_transform(VAL['st_id'])\n",
    "VAL['prd_id']=imputer.fit_transform(VAL['prd_id'])\n",
    "VAL['cor_id']=imputer.fit_transform(VAL['cor_id'])\n",
    "VAL['sup_id']=imputer.fit_transform(VAL['sup_id'])"
   ]
  },
  {
   "cell_type": "code",
   "execution_count": 51,
   "metadata": {},
   "outputs": [
    {
     "data": {
      "text/plain": [
       "experiment_week        0\n",
       "channel_type           0\n",
       "store_identifier       0\n",
       "product_identifier     0\n",
       "category_of_route      0\n",
       "supplier_identifier    0\n",
       "demand_projection      0\n",
       "st_id                  0\n",
       "prd_id                 0\n",
       "cor_id                 0\n",
       "sup_id                 0\n",
       "dtype: int64"
      ]
     },
     "execution_count": 51,
     "metadata": {},
     "output_type": "execute_result"
    }
   ],
   "source": [
    "TRAIN.isnull().sum()"
   ]
  },
  {
   "cell_type": "code",
   "execution_count": 52,
   "metadata": {},
   "outputs": [
    {
     "data": {
      "text/plain": [
       "experiment_week        0\n",
       "channel_type           0\n",
       "store_identifier       0\n",
       "product_identifier     0\n",
       "category_of_route      0\n",
       "supplier_identifier    0\n",
       "demand_projection      0\n",
       "st_id                  0\n",
       "prd_id                 0\n",
       "cor_id                 0\n",
       "sup_id                 0\n",
       "dtype: int64"
      ]
     },
     "execution_count": 52,
     "metadata": {},
     "output_type": "execute_result"
    }
   ],
   "source": [
    "VAL.isnull().sum()"
   ]
  },
  {
   "cell_type": "code",
   "execution_count": 53,
   "metadata": {},
   "outputs": [],
   "source": [
    "TRAIN.drop([\"store_identifier\",\"product_identifier\",\"category_of_route\",\"supplier_identifier\"],axis=1,inplace=True)\n",
    "VAL.drop([\"store_identifier\",\"product_identifier\",\"category_of_route\",\"supplier_identifier\"],axis=1,inplace=True)"
   ]
  },
  {
   "cell_type": "markdown",
   "metadata": {},
   "source": [
    "# Seperate Target Variable"
   ]
  },
  {
   "cell_type": "code",
   "execution_count": 54,
   "metadata": {},
   "outputs": [
    {
     "data": {
      "text/html": [
       "<div>\n",
       "<style scoped>\n",
       "    .dataframe tbody tr th:only-of-type {\n",
       "        vertical-align: middle;\n",
       "    }\n",
       "\n",
       "    .dataframe tbody tr th {\n",
       "        vertical-align: top;\n",
       "    }\n",
       "\n",
       "    .dataframe thead th {\n",
       "        text-align: right;\n",
       "    }\n",
       "</style>\n",
       "<table border=\"1\" class=\"dataframe\">\n",
       "  <thead>\n",
       "    <tr style=\"text-align: right;\">\n",
       "      <th></th>\n",
       "      <th>experiment_week</th>\n",
       "      <th>channel_type</th>\n",
       "      <th>demand_projection</th>\n",
       "      <th>st_id</th>\n",
       "      <th>prd_id</th>\n",
       "      <th>cor_id</th>\n",
       "      <th>sup_id</th>\n",
       "    </tr>\n",
       "  </thead>\n",
       "  <tbody>\n",
       "    <tr>\n",
       "      <td>0</td>\n",
       "      <td>Week 1 of 2019</td>\n",
       "      <td>Warehouse Retailers</td>\n",
       "      <td>3</td>\n",
       "      <td>st8</td>\n",
       "      <td>pid10</td>\n",
       "      <td>cor10</td>\n",
       "      <td>sid6</td>\n",
       "    </tr>\n",
       "    <tr>\n",
       "      <td>1</td>\n",
       "      <td>Week 1 of 2019</td>\n",
       "      <td>Warehouse Retailers</td>\n",
       "      <td>4</td>\n",
       "      <td>st8</td>\n",
       "      <td>pid10</td>\n",
       "      <td>cor10</td>\n",
       "      <td>sid6</td>\n",
       "    </tr>\n",
       "    <tr>\n",
       "      <td>2</td>\n",
       "      <td>Week 1 of 2019</td>\n",
       "      <td>Warehouse Retailers</td>\n",
       "      <td>4</td>\n",
       "      <td>st8</td>\n",
       "      <td>pid10</td>\n",
       "      <td>cor10</td>\n",
       "      <td>sid6</td>\n",
       "    </tr>\n",
       "    <tr>\n",
       "      <td>3</td>\n",
       "      <td>Week 1 of 2019</td>\n",
       "      <td>Warehouse Retailers</td>\n",
       "      <td>4</td>\n",
       "      <td>st8</td>\n",
       "      <td>pid10</td>\n",
       "      <td>cor10</td>\n",
       "      <td>sid6</td>\n",
       "    </tr>\n",
       "    <tr>\n",
       "      <td>4</td>\n",
       "      <td>Week 1 of 2019</td>\n",
       "      <td>Warehouse Retailers</td>\n",
       "      <td>3</td>\n",
       "      <td>st8</td>\n",
       "      <td>pid10</td>\n",
       "      <td>cor10</td>\n",
       "      <td>sid6</td>\n",
       "    </tr>\n",
       "  </tbody>\n",
       "</table>\n",
       "</div>"
      ],
      "text/plain": [
       "  experiment_week         channel_type  demand_projection st_id prd_id cor_id  \\\n",
       "0  Week 1 of 2019  Warehouse Retailers                  3   st8  pid10  cor10   \n",
       "1  Week 1 of 2019  Warehouse Retailers                  4   st8  pid10  cor10   \n",
       "2  Week 1 of 2019  Warehouse Retailers                  4   st8  pid10  cor10   \n",
       "3  Week 1 of 2019  Warehouse Retailers                  4   st8  pid10  cor10   \n",
       "4  Week 1 of 2019  Warehouse Retailers                  3   st8  pid10  cor10   \n",
       "\n",
       "  sup_id  \n",
       "0   sid6  \n",
       "1   sid6  \n",
       "2   sid6  \n",
       "3   sid6  \n",
       "4   sid6  "
      ]
     },
     "execution_count": 54,
     "metadata": {},
     "output_type": "execute_result"
    }
   ],
   "source": [
    "TRAIN.head()"
   ]
  },
  {
   "cell_type": "code",
   "execution_count": 55,
   "metadata": {},
   "outputs": [
    {
     "data": {
      "text/html": [
       "<div>\n",
       "<style scoped>\n",
       "    .dataframe tbody tr th:only-of-type {\n",
       "        vertical-align: middle;\n",
       "    }\n",
       "\n",
       "    .dataframe tbody tr th {\n",
       "        vertical-align: top;\n",
       "    }\n",
       "\n",
       "    .dataframe thead th {\n",
       "        text-align: right;\n",
       "    }\n",
       "</style>\n",
       "<table border=\"1\" class=\"dataframe\">\n",
       "  <thead>\n",
       "    <tr style=\"text-align: right;\">\n",
       "      <th></th>\n",
       "      <th>experiment_week</th>\n",
       "      <th>channel_type</th>\n",
       "      <th>demand_projection</th>\n",
       "      <th>st_id</th>\n",
       "      <th>prd_id</th>\n",
       "      <th>cor_id</th>\n",
       "      <th>sup_id</th>\n",
       "    </tr>\n",
       "  </thead>\n",
       "  <tbody>\n",
       "    <tr>\n",
       "      <td>0</td>\n",
       "      <td>Week 5 of 2019</td>\n",
       "      <td>Warehouse Retailers</td>\n",
       "      <td>2</td>\n",
       "      <td>st8</td>\n",
       "      <td>pid10</td>\n",
       "      <td>cor10</td>\n",
       "      <td>sid6</td>\n",
       "    </tr>\n",
       "    <tr>\n",
       "      <td>1</td>\n",
       "      <td>Week 5 of 2019</td>\n",
       "      <td>Warehouse Retailers</td>\n",
       "      <td>2</td>\n",
       "      <td>st8</td>\n",
       "      <td>pid10</td>\n",
       "      <td>cor10</td>\n",
       "      <td>sid6</td>\n",
       "    </tr>\n",
       "    <tr>\n",
       "      <td>2</td>\n",
       "      <td>Week 5 of 2019</td>\n",
       "      <td>Warehouse Retailers</td>\n",
       "      <td>8</td>\n",
       "      <td>st8</td>\n",
       "      <td>pid10</td>\n",
       "      <td>cor10</td>\n",
       "      <td>sid6</td>\n",
       "    </tr>\n",
       "    <tr>\n",
       "      <td>3</td>\n",
       "      <td>Week 5 of 2019</td>\n",
       "      <td>Warehouse Retailers</td>\n",
       "      <td>2</td>\n",
       "      <td>st8</td>\n",
       "      <td>pid10</td>\n",
       "      <td>cor10</td>\n",
       "      <td>sid6</td>\n",
       "    </tr>\n",
       "    <tr>\n",
       "      <td>4</td>\n",
       "      <td>Week 5 of 2019</td>\n",
       "      <td>Warehouse Retailers</td>\n",
       "      <td>14</td>\n",
       "      <td>st8</td>\n",
       "      <td>pid10</td>\n",
       "      <td>cor10</td>\n",
       "      <td>sid6</td>\n",
       "    </tr>\n",
       "  </tbody>\n",
       "</table>\n",
       "</div>"
      ],
      "text/plain": [
       "  experiment_week         channel_type  demand_projection st_id prd_id cor_id  \\\n",
       "0  Week 5 of 2019  Warehouse Retailers                  2   st8  pid10  cor10   \n",
       "1  Week 5 of 2019  Warehouse Retailers                  2   st8  pid10  cor10   \n",
       "2  Week 5 of 2019  Warehouse Retailers                  8   st8  pid10  cor10   \n",
       "3  Week 5 of 2019  Warehouse Retailers                  2   st8  pid10  cor10   \n",
       "4  Week 5 of 2019  Warehouse Retailers                 14   st8  pid10  cor10   \n",
       "\n",
       "  sup_id  \n",
       "0   sid6  \n",
       "1   sid6  \n",
       "2   sid6  \n",
       "3   sid6  \n",
       "4   sid6  "
      ]
     },
     "execution_count": 55,
     "metadata": {},
     "output_type": "execute_result"
    }
   ],
   "source": [
    "VAL.head()"
   ]
  },
  {
   "cell_type": "code",
   "execution_count": 56,
   "metadata": {},
   "outputs": [],
   "source": [
    "Y_Train=TRAIN[\"demand_projection\"]\n",
    "X_Train=TRAIN.drop([\"experiment_week\",\"demand_projection\"],axis=1)"
   ]
  },
  {
   "cell_type": "code",
   "execution_count": 57,
   "metadata": {},
   "outputs": [],
   "source": [
    "Y_Val=VAL[\"demand_projection\"]\n",
    "X_Val=VAL.drop([\"experiment_week\",\"demand_projection\"],axis=1)"
   ]
  },
  {
   "cell_type": "code",
   "execution_count": 58,
   "metadata": {},
   "outputs": [],
   "source": [
    "X_Train = pd.get_dummies(data=X_Train,drop_first=True)\n",
    "\n",
    "X_Val = pd.get_dummies(data=X_Val,drop_first=True)"
   ]
  },
  {
   "cell_type": "code",
   "execution_count": 59,
   "metadata": {},
   "outputs": [
    {
     "name": "stdout",
     "output_type": "stream",
     "text": [
      "(42981909, 44)\n",
      "(10382826, 44)\n",
      "(42981909,)\n",
      "(10382826,)\n"
     ]
    }
   ],
   "source": [
    "print(X_Train.shape)\n",
    "print(X_Val.shape)\n",
    "\n",
    "print(Y_Train.shape)\n",
    "print(Y_Val.shape)"
   ]
  },
  {
   "cell_type": "markdown",
   "metadata": {},
   "source": [
    "# Columns Mismatch"
   ]
  },
  {
   "cell_type": "code",
   "execution_count": 60,
   "metadata": {},
   "outputs": [],
   "source": [
    "# missing_cols = set( X_Train.columns ) - set( X_Val.columns )"
   ]
  },
  {
   "cell_type": "code",
   "execution_count": 61,
   "metadata": {},
   "outputs": [],
   "source": [
    "# for c in missing_cols:\n",
    " #   X_Val[c] = 0"
   ]
  },
  {
   "cell_type": "code",
   "execution_count": 62,
   "metadata": {},
   "outputs": [],
   "source": [
    "# X_Val = X_Val[X_Train.columns]"
   ]
  },
  {
   "cell_type": "code",
   "execution_count": 63,
   "metadata": {},
   "outputs": [],
   "source": [
    "# X_Val.shape"
   ]
  },
  {
   "cell_type": "code",
   "execution_count": 64,
   "metadata": {},
   "outputs": [],
   "source": [
    "# X_Train.shape"
   ]
  },
  {
   "cell_type": "markdown",
   "metadata": {},
   "source": [
    "# Test Data Pre"
   ]
  },
  {
   "cell_type": "code",
   "execution_count": 65,
   "metadata": {},
   "outputs": [
    {
     "data": {
      "text/html": [
       "<div>\n",
       "<style scoped>\n",
       "    .dataframe tbody tr th:only-of-type {\n",
       "        vertical-align: middle;\n",
       "    }\n",
       "\n",
       "    .dataframe tbody tr th {\n",
       "        vertical-align: top;\n",
       "    }\n",
       "\n",
       "    .dataframe thead th {\n",
       "        text-align: right;\n",
       "    }\n",
       "</style>\n",
       "<table border=\"1\" class=\"dataframe\">\n",
       "  <thead>\n",
       "    <tr style=\"text-align: right;\">\n",
       "      <th></th>\n",
       "      <th>id</th>\n",
       "      <th>experiment_week</th>\n",
       "      <th>channel_type</th>\n",
       "      <th>supplier_identifier</th>\n",
       "      <th>category_of_route</th>\n",
       "      <th>store_identifier</th>\n",
       "      <th>product_identifier</th>\n",
       "    </tr>\n",
       "  </thead>\n",
       "  <tbody>\n",
       "    <tr>\n",
       "      <td>0</td>\n",
       "      <td>1</td>\n",
       "      <td>Week 6 of 2019</td>\n",
       "      <td>Warehouse Retailers</td>\n",
       "      <td>supplier_identifier_055f7</td>\n",
       "      <td>route_67047</td>\n",
       "      <td>store_fc6aa</td>\n",
       "      <td>product_cbfad</td>\n",
       "    </tr>\n",
       "    <tr>\n",
       "      <td>1</td>\n",
       "      <td>2</td>\n",
       "      <td>Week 6 of 2019</td>\n",
       "      <td>Warehouse Retailers</td>\n",
       "      <td>supplier_identifier_055f7</td>\n",
       "      <td>route_67047</td>\n",
       "      <td>store_fc6aa</td>\n",
       "      <td>product_2b363</td>\n",
       "    </tr>\n",
       "    <tr>\n",
       "      <td>2</td>\n",
       "      <td>3</td>\n",
       "      <td>Week 6 of 2019</td>\n",
       "      <td>Warehouse Retailers</td>\n",
       "      <td>supplier_identifier_055f7</td>\n",
       "      <td>route_67047</td>\n",
       "      <td>store_fc6aa</td>\n",
       "      <td>product_f79b8</td>\n",
       "    </tr>\n",
       "    <tr>\n",
       "      <td>3</td>\n",
       "      <td>4</td>\n",
       "      <td>Week 6 of 2019</td>\n",
       "      <td>Warehouse Retailers</td>\n",
       "      <td>supplier_identifier_055f7</td>\n",
       "      <td>route_67047</td>\n",
       "      <td>store_fc6aa</td>\n",
       "      <td>product_8de14</td>\n",
       "    </tr>\n",
       "    <tr>\n",
       "      <td>4</td>\n",
       "      <td>5</td>\n",
       "      <td>Week 6 of 2019</td>\n",
       "      <td>Warehouse Retailers</td>\n",
       "      <td>supplier_identifier_055f7</td>\n",
       "      <td>route_67047</td>\n",
       "      <td>store_fc6aa</td>\n",
       "      <td>product_1c00e</td>\n",
       "    </tr>\n",
       "  </tbody>\n",
       "</table>\n",
       "</div>"
      ],
      "text/plain": [
       "   id experiment_week         channel_type        supplier_identifier  \\\n",
       "0   1  Week 6 of 2019  Warehouse Retailers  supplier_identifier_055f7   \n",
       "1   2  Week 6 of 2019  Warehouse Retailers  supplier_identifier_055f7   \n",
       "2   3  Week 6 of 2019  Warehouse Retailers  supplier_identifier_055f7   \n",
       "3   4  Week 6 of 2019  Warehouse Retailers  supplier_identifier_055f7   \n",
       "4   5  Week 6 of 2019  Warehouse Retailers  supplier_identifier_055f7   \n",
       "\n",
       "  category_of_route store_identifier product_identifier  \n",
       "0       route_67047      store_fc6aa      product_cbfad  \n",
       "1       route_67047      store_fc6aa      product_2b363  \n",
       "2       route_67047      store_fc6aa      product_f79b8  \n",
       "3       route_67047      store_fc6aa      product_8de14  \n",
       "4       route_67047      store_fc6aa      product_1c00e  "
      ]
     },
     "execution_count": 65,
     "metadata": {},
     "output_type": "execute_result"
    }
   ],
   "source": [
    "TestData.head()"
   ]
  },
  {
   "cell_type": "code",
   "execution_count": 66,
   "metadata": {},
   "outputs": [],
   "source": [
    "TestData = pd.merge(TestData,T1,left_on=\"store_identifier\",right_on=\"store_identifier\",how=\"left\")\n",
    "TestData = pd.merge(TestData,T2,left_on=\"product_identifier\",right_on=\"product_identifier\",how=\"left\")\n",
    "TestData = pd.merge(TestData,T3,left_on=\"category_of_route\",right_on=\"category_of_route\",how=\"left\")\n",
    "TestData = pd.merge(TestData,T4,left_on=\"supplier_identifier\",right_on=\"supplier_identifier\",how=\"left\")"
   ]
  },
  {
   "cell_type": "code",
   "execution_count": 67,
   "metadata": {},
   "outputs": [],
   "source": [
    "Test_Id = TestData[\"id\"]"
   ]
  },
  {
   "cell_type": "code",
   "execution_count": 68,
   "metadata": {},
   "outputs": [
    {
     "data": {
      "text/html": [
       "<div>\n",
       "<style scoped>\n",
       "    .dataframe tbody tr th:only-of-type {\n",
       "        vertical-align: middle;\n",
       "    }\n",
       "\n",
       "    .dataframe tbody tr th {\n",
       "        vertical-align: top;\n",
       "    }\n",
       "\n",
       "    .dataframe thead th {\n",
       "        text-align: right;\n",
       "    }\n",
       "</style>\n",
       "<table border=\"1\" class=\"dataframe\">\n",
       "  <thead>\n",
       "    <tr style=\"text-align: right;\">\n",
       "      <th></th>\n",
       "      <th>id</th>\n",
       "      <th>experiment_week</th>\n",
       "      <th>channel_type</th>\n",
       "      <th>supplier_identifier</th>\n",
       "      <th>category_of_route</th>\n",
       "      <th>store_identifier</th>\n",
       "      <th>product_identifier</th>\n",
       "      <th>st_id</th>\n",
       "      <th>prd_id</th>\n",
       "      <th>cor_id</th>\n",
       "      <th>sup_id</th>\n",
       "    </tr>\n",
       "  </thead>\n",
       "  <tbody>\n",
       "    <tr>\n",
       "      <td>0</td>\n",
       "      <td>1</td>\n",
       "      <td>Week 6 of 2019</td>\n",
       "      <td>Warehouse Retailers</td>\n",
       "      <td>supplier_identifier_055f7</td>\n",
       "      <td>route_67047</td>\n",
       "      <td>store_fc6aa</td>\n",
       "      <td>product_cbfad</td>\n",
       "      <td>st8</td>\n",
       "      <td>pid10</td>\n",
       "      <td>cor10</td>\n",
       "      <td>sid6</td>\n",
       "    </tr>\n",
       "    <tr>\n",
       "      <td>1</td>\n",
       "      <td>2</td>\n",
       "      <td>Week 6 of 2019</td>\n",
       "      <td>Warehouse Retailers</td>\n",
       "      <td>supplier_identifier_055f7</td>\n",
       "      <td>route_67047</td>\n",
       "      <td>store_fc6aa</td>\n",
       "      <td>product_2b363</td>\n",
       "      <td>st8</td>\n",
       "      <td>pid10</td>\n",
       "      <td>cor10</td>\n",
       "      <td>sid6</td>\n",
       "    </tr>\n",
       "    <tr>\n",
       "      <td>2</td>\n",
       "      <td>3</td>\n",
       "      <td>Week 6 of 2019</td>\n",
       "      <td>Warehouse Retailers</td>\n",
       "      <td>supplier_identifier_055f7</td>\n",
       "      <td>route_67047</td>\n",
       "      <td>store_fc6aa</td>\n",
       "      <td>product_f79b8</td>\n",
       "      <td>st8</td>\n",
       "      <td>pid10</td>\n",
       "      <td>cor10</td>\n",
       "      <td>sid6</td>\n",
       "    </tr>\n",
       "    <tr>\n",
       "      <td>3</td>\n",
       "      <td>4</td>\n",
       "      <td>Week 6 of 2019</td>\n",
       "      <td>Warehouse Retailers</td>\n",
       "      <td>supplier_identifier_055f7</td>\n",
       "      <td>route_67047</td>\n",
       "      <td>store_fc6aa</td>\n",
       "      <td>product_8de14</td>\n",
       "      <td>st8</td>\n",
       "      <td>pid10</td>\n",
       "      <td>cor10</td>\n",
       "      <td>sid6</td>\n",
       "    </tr>\n",
       "    <tr>\n",
       "      <td>4</td>\n",
       "      <td>5</td>\n",
       "      <td>Week 6 of 2019</td>\n",
       "      <td>Warehouse Retailers</td>\n",
       "      <td>supplier_identifier_055f7</td>\n",
       "      <td>route_67047</td>\n",
       "      <td>store_fc6aa</td>\n",
       "      <td>product_1c00e</td>\n",
       "      <td>st8</td>\n",
       "      <td>pid10</td>\n",
       "      <td>cor10</td>\n",
       "      <td>sid6</td>\n",
       "    </tr>\n",
       "  </tbody>\n",
       "</table>\n",
       "</div>"
      ],
      "text/plain": [
       "   id experiment_week         channel_type        supplier_identifier  \\\n",
       "0   1  Week 6 of 2019  Warehouse Retailers  supplier_identifier_055f7   \n",
       "1   2  Week 6 of 2019  Warehouse Retailers  supplier_identifier_055f7   \n",
       "2   3  Week 6 of 2019  Warehouse Retailers  supplier_identifier_055f7   \n",
       "3   4  Week 6 of 2019  Warehouse Retailers  supplier_identifier_055f7   \n",
       "4   5  Week 6 of 2019  Warehouse Retailers  supplier_identifier_055f7   \n",
       "\n",
       "  category_of_route store_identifier product_identifier st_id prd_id cor_id  \\\n",
       "0       route_67047      store_fc6aa      product_cbfad   st8  pid10  cor10   \n",
       "1       route_67047      store_fc6aa      product_2b363   st8  pid10  cor10   \n",
       "2       route_67047      store_fc6aa      product_f79b8   st8  pid10  cor10   \n",
       "3       route_67047      store_fc6aa      product_8de14   st8  pid10  cor10   \n",
       "4       route_67047      store_fc6aa      product_1c00e   st8  pid10  cor10   \n",
       "\n",
       "  sup_id  \n",
       "0   sid6  \n",
       "1   sid6  \n",
       "2   sid6  \n",
       "3   sid6  \n",
       "4   sid6  "
      ]
     },
     "execution_count": 68,
     "metadata": {},
     "output_type": "execute_result"
    }
   ],
   "source": [
    "TestData.head()"
   ]
  },
  {
   "cell_type": "code",
   "execution_count": 69,
   "metadata": {},
   "outputs": [],
   "source": [
    "TestData.drop([\"id\",\"experiment_week\",\"supplier_identifier\",\"category_of_route\",\n",
    "            \"store_identifier\",\"product_identifier\"],axis=1,inplace=True)"
   ]
  },
  {
   "cell_type": "code",
   "execution_count": 70,
   "metadata": {},
   "outputs": [
    {
     "data": {
      "text/html": [
       "<div>\n",
       "<style scoped>\n",
       "    .dataframe tbody tr th:only-of-type {\n",
       "        vertical-align: middle;\n",
       "    }\n",
       "\n",
       "    .dataframe tbody tr th {\n",
       "        vertical-align: top;\n",
       "    }\n",
       "\n",
       "    .dataframe thead th {\n",
       "        text-align: right;\n",
       "    }\n",
       "</style>\n",
       "<table border=\"1\" class=\"dataframe\">\n",
       "  <thead>\n",
       "    <tr style=\"text-align: right;\">\n",
       "      <th></th>\n",
       "      <th>channel_type</th>\n",
       "      <th>st_id</th>\n",
       "      <th>prd_id</th>\n",
       "      <th>cor_id</th>\n",
       "      <th>sup_id</th>\n",
       "    </tr>\n",
       "  </thead>\n",
       "  <tbody>\n",
       "    <tr>\n",
       "      <td>0</td>\n",
       "      <td>Warehouse Retailers</td>\n",
       "      <td>st8</td>\n",
       "      <td>pid10</td>\n",
       "      <td>cor10</td>\n",
       "      <td>sid6</td>\n",
       "    </tr>\n",
       "    <tr>\n",
       "      <td>1</td>\n",
       "      <td>Warehouse Retailers</td>\n",
       "      <td>st8</td>\n",
       "      <td>pid10</td>\n",
       "      <td>cor10</td>\n",
       "      <td>sid6</td>\n",
       "    </tr>\n",
       "    <tr>\n",
       "      <td>2</td>\n",
       "      <td>Warehouse Retailers</td>\n",
       "      <td>st8</td>\n",
       "      <td>pid10</td>\n",
       "      <td>cor10</td>\n",
       "      <td>sid6</td>\n",
       "    </tr>\n",
       "    <tr>\n",
       "      <td>3</td>\n",
       "      <td>Warehouse Retailers</td>\n",
       "      <td>st8</td>\n",
       "      <td>pid10</td>\n",
       "      <td>cor10</td>\n",
       "      <td>sid6</td>\n",
       "    </tr>\n",
       "    <tr>\n",
       "      <td>4</td>\n",
       "      <td>Warehouse Retailers</td>\n",
       "      <td>st8</td>\n",
       "      <td>pid10</td>\n",
       "      <td>cor10</td>\n",
       "      <td>sid6</td>\n",
       "    </tr>\n",
       "  </tbody>\n",
       "</table>\n",
       "</div>"
      ],
      "text/plain": [
       "          channel_type st_id prd_id cor_id sup_id\n",
       "0  Warehouse Retailers   st8  pid10  cor10   sid6\n",
       "1  Warehouse Retailers   st8  pid10  cor10   sid6\n",
       "2  Warehouse Retailers   st8  pid10  cor10   sid6\n",
       "3  Warehouse Retailers   st8  pid10  cor10   sid6\n",
       "4  Warehouse Retailers   st8  pid10  cor10   sid6"
      ]
     },
     "execution_count": 70,
     "metadata": {},
     "output_type": "execute_result"
    }
   ],
   "source": [
    "TestData.head()"
   ]
  },
  {
   "cell_type": "code",
   "execution_count": 71,
   "metadata": {},
   "outputs": [],
   "source": [
    "TestData_dummy = pd.get_dummies(data=TestData,drop_first=True)"
   ]
  },
  {
   "cell_type": "code",
   "execution_count": 72,
   "metadata": {},
   "outputs": [
    {
     "data": {
      "text/plain": [
       "(20815581, 44)"
      ]
     },
     "execution_count": 72,
     "metadata": {},
     "output_type": "execute_result"
    }
   ],
   "source": [
    "TestData_dummy.shape"
   ]
  },
  {
   "cell_type": "markdown",
   "metadata": {},
   "source": [
    "# Model Building"
   ]
  },
  {
   "cell_type": "markdown",
   "metadata": {},
   "source": [
    "# 1. Random Forest Regressor"
   ]
  },
  {
   "cell_type": "code",
   "execution_count": 73,
   "metadata": {},
   "outputs": [
    {
     "data": {
      "text/plain": [
       "RandomForestRegressor(bootstrap=True, criterion='mse', max_depth=4,\n",
       "                      max_features='auto', max_leaf_nodes=None,\n",
       "                      min_impurity_decrease=0.0, min_impurity_split=None,\n",
       "                      min_samples_leaf=1, min_samples_split=2,\n",
       "                      min_weight_fraction_leaf=0.0, n_estimators=10, n_jobs=-1,\n",
       "                      oob_score=False, random_state=None, verbose=0,\n",
       "                      warm_start=False)"
      ]
     },
     "execution_count": 73,
     "metadata": {},
     "output_type": "execute_result"
    }
   ],
   "source": [
    "from sklearn.ensemble import RandomForestRegressor\n",
    "RF_model = RandomForestRegressor(n_estimators =10, n_jobs =-1, max_depth = 4)\n",
    "RF_model.fit(X_Train, Y_Train)"
   ]
  },
  {
   "cell_type": "code",
   "execution_count": 74,
   "metadata": {},
   "outputs": [],
   "source": [
    "Y_Pred_rf = RF_model.predict(X_Val)"
   ]
  },
  {
   "cell_type": "code",
   "execution_count": 75,
   "metadata": {},
   "outputs": [
    {
     "data": {
      "text/plain": [
       "20.300111431410553"
      ]
     },
     "execution_count": 75,
     "metadata": {},
     "output_type": "execute_result"
    }
   ],
   "source": [
    "from math import sqrt\n",
    "from sklearn.metrics import mean_squared_error\n",
    "RF = sqrt(mean_squared_error(Y_Val, Y_Pred_rf))\n",
    "RF"
   ]
  },
  {
   "cell_type": "code",
   "execution_count": 76,
   "metadata": {},
   "outputs": [],
   "source": [
    "Y_Pred_rfT = RF_model.predict(X_Train)"
   ]
  },
  {
   "cell_type": "code",
   "execution_count": 77,
   "metadata": {},
   "outputs": [
    {
     "data": {
      "text/plain": [
       "20.446733721710554"
      ]
     },
     "execution_count": 77,
     "metadata": {},
     "output_type": "execute_result"
    }
   ],
   "source": [
    "from math import sqrt\n",
    "from sklearn.metrics import mean_squared_error\n",
    "RFT = sqrt(mean_squared_error(Y_Train, Y_Pred_rfT))\n",
    "RFT"
   ]
  },
  {
   "cell_type": "markdown",
   "metadata": {},
   "source": [
    "# Test Random Forest"
   ]
  },
  {
   "cell_type": "code",
   "execution_count": 78,
   "metadata": {},
   "outputs": [],
   "source": [
    "Y_PredT_rf = RF_model.predict(TestData_dummy)"
   ]
  },
  {
   "cell_type": "code",
   "execution_count": 79,
   "metadata": {},
   "outputs": [
    {
     "data": {
      "text/plain": [
       "array([7.35052493, 7.35052493, 7.35052493, ..., 4.29011979, 4.29011979,\n",
       "       4.29011979])"
      ]
     },
     "execution_count": 79,
     "metadata": {},
     "output_type": "execute_result"
    }
   ],
   "source": [
    "Y_PredT_rf"
   ]
  },
  {
   "cell_type": "code",
   "execution_count": 80,
   "metadata": {},
   "outputs": [],
   "source": [
    "import numpy"
   ]
  },
  {
   "cell_type": "code",
   "execution_count": 81,
   "metadata": {},
   "outputs": [],
   "source": [
    "Y_PredT_rf=numpy.round(Y_PredT_rf,3)"
   ]
  },
  {
   "cell_type": "code",
   "execution_count": 82,
   "metadata": {},
   "outputs": [],
   "source": [
    "predT = pd.Series(Y_PredT_rf)\n",
    "csv = pd.DataFrame({'id': Test_Id, 'demand_projection': predT})\n",
    "csv.to_csv('Test_RF.csv', index = False,header = True)"
   ]
  },
  {
   "cell_type": "markdown",
   "metadata": {},
   "source": [
    "# Decision Tree"
   ]
  },
  {
   "cell_type": "code",
   "execution_count": 83,
   "metadata": {},
   "outputs": [
    {
     "data": {
      "text/plain": [
       "DecisionTreeRegressor(criterion='mse', max_depth=15, max_features=None,\n",
       "                      max_leaf_nodes=None, min_impurity_decrease=0.0,\n",
       "                      min_impurity_split=None, min_samples_leaf=1,\n",
       "                      min_samples_split=2, min_weight_fraction_leaf=0.0,\n",
       "                      presort=False, random_state=None, splitter='best')"
      ]
     },
     "execution_count": 83,
     "metadata": {},
     "output_type": "execute_result"
    }
   ],
   "source": [
    "#Decision Tree Regressor Model\n",
    "from sklearn.tree import DecisionTreeRegressor\n",
    "reg = DecisionTreeRegressor(max_depth = 15)\n",
    "reg.fit(X_Train, Y_Train)"
   ]
  },
  {
   "cell_type": "code",
   "execution_count": 84,
   "metadata": {},
   "outputs": [
    {
     "data": {
      "text/plain": [
       "array([8.48942172, 8.48942172, 8.48942172, ..., 4.56511808, 4.56511808,\n",
       "       4.56511808])"
      ]
     },
     "execution_count": 84,
     "metadata": {},
     "output_type": "execute_result"
    }
   ],
   "source": [
    "Y_Pred_Reg = reg.predict(X_Val)\n",
    "Y_Pred_Reg"
   ]
  },
  {
   "cell_type": "code",
   "execution_count": 85,
   "metadata": {},
   "outputs": [
    {
     "name": "stdout",
     "output_type": "stream",
     "text": [
      "19.36516947345306\n"
     ]
    }
   ],
   "source": [
    "from math import sqrt\n",
    "from sklearn.metrics import mean_squared_error\n",
    "DT = sqrt(mean_squared_error(Y_Val, Y_Pred_Reg))\n",
    "print(DT)"
   ]
  },
  {
   "cell_type": "code",
   "execution_count": 86,
   "metadata": {},
   "outputs": [],
   "source": [
    "Y_Pred_RegT = reg.predict(X_Train)"
   ]
  },
  {
   "cell_type": "code",
   "execution_count": 87,
   "metadata": {},
   "outputs": [
    {
     "name": "stdout",
     "output_type": "stream",
     "text": [
      "19.446603436329497\n"
     ]
    }
   ],
   "source": [
    "DT_T = sqrt(mean_squared_error(Y_Train, Y_Pred_RegT))\n",
    "\n",
    "print(DT_T)"
   ]
  },
  {
   "cell_type": "markdown",
   "metadata": {},
   "source": [
    "# Test Decision Tree "
   ]
  },
  {
   "cell_type": "code",
   "execution_count": 88,
   "metadata": {},
   "outputs": [],
   "source": [
    "Y_PredT_Reg = reg.predict(TestData_dummy)"
   ]
  },
  {
   "cell_type": "code",
   "execution_count": 89,
   "metadata": {},
   "outputs": [
    {
     "data": {
      "text/plain": [
       "array([14.48970888, 14.48970888, 14.48970888, ...,  3.03918919,\n",
       "        3.22420217,  2.09256072])"
      ]
     },
     "execution_count": 89,
     "metadata": {},
     "output_type": "execute_result"
    }
   ],
   "source": [
    "Y_PredT_Reg"
   ]
  },
  {
   "cell_type": "code",
   "execution_count": 90,
   "metadata": {},
   "outputs": [],
   "source": [
    "import numpy "
   ]
  },
  {
   "cell_type": "code",
   "execution_count": 91,
   "metadata": {},
   "outputs": [],
   "source": [
    "Y_PredT_Reg=numpy.round(Y_PredT_Reg,3)"
   ]
  },
  {
   "cell_type": "code",
   "execution_count": 92,
   "metadata": {},
   "outputs": [
    {
     "data": {
      "text/plain": [
       "array([14.49 , 14.49 , 14.49 , ...,  3.039,  3.224,  2.093])"
      ]
     },
     "execution_count": 92,
     "metadata": {},
     "output_type": "execute_result"
    }
   ],
   "source": [
    "Y_PredT_Reg"
   ]
  },
  {
   "cell_type": "code",
   "execution_count": 93,
   "metadata": {},
   "outputs": [
    {
     "data": {
      "text/plain": [
       "(20815581,)"
      ]
     },
     "execution_count": 93,
     "metadata": {},
     "output_type": "execute_result"
    }
   ],
   "source": [
    "Y_PredT_Reg.shape"
   ]
  },
  {
   "cell_type": "code",
   "execution_count": 94,
   "metadata": {},
   "outputs": [],
   "source": [
    "predT = pd.Series(Y_PredT_Reg)\n",
    "csv = pd.DataFrame({'id': Test_Id, 'demand_projection': predT})\n",
    "csv.to_csv('Test_DT.csv', index = False,header = True)"
   ]
  },
  {
   "cell_type": "markdown",
   "metadata": {},
   "source": [
    "# Loss of Revenue"
   ]
  },
  {
   "cell_type": "code",
   "execution_count": 138,
   "metadata": {},
   "outputs": [],
   "source": [
    "Y_Val=pd.DataFrame(Y_Val)"
   ]
  },
  {
   "cell_type": "code",
   "execution_count": 139,
   "metadata": {},
   "outputs": [
    {
     "data": {
      "text/plain": [
       "Index(['demand_projection'], dtype='object')"
      ]
     },
     "execution_count": 139,
     "metadata": {},
     "output_type": "execute_result"
    }
   ],
   "source": [
    "Y_Val.columns"
   ]
  },
  {
   "cell_type": "code",
   "execution_count": 140,
   "metadata": {},
   "outputs": [],
   "source": [
    "Actual_Demand=Y_Val['demand_projection']\n",
    "Actual_Demand=pd.DataFrame(Actual_Demand)"
   ]
  },
  {
   "cell_type": "code",
   "execution_count": 141,
   "metadata": {},
   "outputs": [
    {
     "data": {
      "text/html": [
       "<div>\n",
       "<style scoped>\n",
       "    .dataframe tbody tr th:only-of-type {\n",
       "        vertical-align: middle;\n",
       "    }\n",
       "\n",
       "    .dataframe tbody tr th {\n",
       "        vertical-align: top;\n",
       "    }\n",
       "\n",
       "    .dataframe thead th {\n",
       "        text-align: right;\n",
       "    }\n",
       "</style>\n",
       "<table border=\"1\" class=\"dataframe\">\n",
       "  <thead>\n",
       "    <tr style=\"text-align: right;\">\n",
       "      <th></th>\n",
       "      <th>demand_projection</th>\n",
       "    </tr>\n",
       "  </thead>\n",
       "  <tbody>\n",
       "    <tr>\n",
       "      <td>0</td>\n",
       "      <td>2</td>\n",
       "    </tr>\n",
       "    <tr>\n",
       "      <td>1</td>\n",
       "      <td>2</td>\n",
       "    </tr>\n",
       "    <tr>\n",
       "      <td>2</td>\n",
       "      <td>8</td>\n",
       "    </tr>\n",
       "    <tr>\n",
       "      <td>3</td>\n",
       "      <td>2</td>\n",
       "    </tr>\n",
       "    <tr>\n",
       "      <td>4</td>\n",
       "      <td>14</td>\n",
       "    </tr>\n",
       "  </tbody>\n",
       "</table>\n",
       "</div>"
      ],
      "text/plain": [
       "   demand_projection\n",
       "0                  2\n",
       "1                  2\n",
       "2                  8\n",
       "3                  2\n",
       "4                 14"
      ]
     },
     "execution_count": 141,
     "metadata": {},
     "output_type": "execute_result"
    }
   ],
   "source": [
    "Actual_Demand.head()"
   ]
  },
  {
   "cell_type": "code",
   "execution_count": 142,
   "metadata": {},
   "outputs": [
    {
     "data": {
      "text/plain": [
       "(10382826, 1)"
      ]
     },
     "execution_count": 142,
     "metadata": {},
     "output_type": "execute_result"
    }
   ],
   "source": [
    "Actual_Demand.shape"
   ]
  },
  {
   "cell_type": "code",
   "execution_count": 143,
   "metadata": {},
   "outputs": [],
   "source": [
    "Y_Pred_Reg = pd.DataFrame(Y_Pred_Reg)"
   ]
  },
  {
   "cell_type": "code",
   "execution_count": 144,
   "metadata": {},
   "outputs": [],
   "source": [
    "Y_Pred_Reg['demand_projection'] = Y_Pred_Reg"
   ]
  },
  {
   "cell_type": "code",
   "execution_count": 145,
   "metadata": {
    "scrolled": true
   },
   "outputs": [
    {
     "data": {
      "text/html": [
       "<div>\n",
       "<style scoped>\n",
       "    .dataframe tbody tr th:only-of-type {\n",
       "        vertical-align: middle;\n",
       "    }\n",
       "\n",
       "    .dataframe tbody tr th {\n",
       "        vertical-align: top;\n",
       "    }\n",
       "\n",
       "    .dataframe thead th {\n",
       "        text-align: right;\n",
       "    }\n",
       "</style>\n",
       "<table border=\"1\" class=\"dataframe\">\n",
       "  <thead>\n",
       "    <tr style=\"text-align: right;\">\n",
       "      <th></th>\n",
       "      <th>0</th>\n",
       "      <th>demand_projection</th>\n",
       "    </tr>\n",
       "  </thead>\n",
       "  <tbody>\n",
       "    <tr>\n",
       "      <td>0</td>\n",
       "      <td>8.489422</td>\n",
       "      <td>8.489422</td>\n",
       "    </tr>\n",
       "    <tr>\n",
       "      <td>1</td>\n",
       "      <td>8.489422</td>\n",
       "      <td>8.489422</td>\n",
       "    </tr>\n",
       "    <tr>\n",
       "      <td>2</td>\n",
       "      <td>8.489422</td>\n",
       "      <td>8.489422</td>\n",
       "    </tr>\n",
       "    <tr>\n",
       "      <td>3</td>\n",
       "      <td>8.489422</td>\n",
       "      <td>8.489422</td>\n",
       "    </tr>\n",
       "    <tr>\n",
       "      <td>4</td>\n",
       "      <td>8.489422</td>\n",
       "      <td>8.489422</td>\n",
       "    </tr>\n",
       "  </tbody>\n",
       "</table>\n",
       "</div>"
      ],
      "text/plain": [
       "          0  demand_projection\n",
       "0  8.489422           8.489422\n",
       "1  8.489422           8.489422\n",
       "2  8.489422           8.489422\n",
       "3  8.489422           8.489422\n",
       "4  8.489422           8.489422"
      ]
     },
     "execution_count": 145,
     "metadata": {},
     "output_type": "execute_result"
    }
   ],
   "source": [
    "Y_Pred_Reg.head()"
   ]
  },
  {
   "cell_type": "code",
   "execution_count": 146,
   "metadata": {},
   "outputs": [],
   "source": [
    "Loss_of_Revenue=Actual_Demand[\"demand_projection\"]-Y_Pred_Reg[\"demand_projection\"]"
   ]
  },
  {
   "cell_type": "code",
   "execution_count": 147,
   "metadata": {},
   "outputs": [
    {
     "data": {
      "text/plain": [
       "(10382826,)"
      ]
     },
     "execution_count": 147,
     "metadata": {},
     "output_type": "execute_result"
    }
   ],
   "source": [
    "Loss_of_Revenue.shape"
   ]
  },
  {
   "cell_type": "code",
   "execution_count": 148,
   "metadata": {},
   "outputs": [
    {
     "data": {
      "text/plain": [
       "pandas.core.series.Series"
      ]
     },
     "execution_count": 148,
     "metadata": {},
     "output_type": "execute_result"
    }
   ],
   "source": [
    "type(Loss_of_Revenue)"
   ]
  },
  {
   "cell_type": "code",
   "execution_count": 149,
   "metadata": {},
   "outputs": [],
   "source": [
    "Loss_of_Revenue = pd.DataFrame(Loss_of_Revenue)"
   ]
  },
  {
   "cell_type": "code",
   "execution_count": 150,
   "metadata": {},
   "outputs": [
    {
     "data": {
      "text/plain": [
       "pandas.core.frame.DataFrame"
      ]
     },
     "execution_count": 150,
     "metadata": {},
     "output_type": "execute_result"
    }
   ],
   "source": [
    "type(Loss_of_Revenue)"
   ]
  },
  {
   "cell_type": "code",
   "execution_count": 151,
   "metadata": {},
   "outputs": [],
   "source": [
    "Demand_RL = Loss_of_Revenue[\"demand_projection\"] * Sales_Price[\"SalesPrice\"]"
   ]
  },
  {
   "cell_type": "code",
   "execution_count": 152,
   "metadata": {},
   "outputs": [
    {
     "data": {
      "text/plain": [
       "pandas.core.series.Series"
      ]
     },
     "execution_count": 152,
     "metadata": {},
     "output_type": "execute_result"
    }
   ],
   "source": [
    "type(Demand_RL)"
   ]
  },
  {
   "cell_type": "code",
   "execution_count": 153,
   "metadata": {},
   "outputs": [
    {
     "data": {
      "text/plain": [
       "245101835.18225732"
      ]
     },
     "execution_count": 153,
     "metadata": {},
     "output_type": "execute_result"
    }
   ],
   "source": [
    "Demand_RL.sum()"
   ]
  }
 ],
 "metadata": {
  "kernelspec": {
   "display_name": "Python 3",
   "language": "python",
   "name": "python3"
  },
  "language_info": {
   "codemirror_mode": {
    "name": "ipython",
    "version": 3
   },
   "file_extension": ".py",
   "mimetype": "text/x-python",
   "name": "python",
   "nbconvert_exporter": "python",
   "pygments_lexer": "ipython3",
   "version": "3.7.4"
  }
 },
 "nbformat": 4,
 "nbformat_minor": 2
}
